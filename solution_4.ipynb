{
 "cells": [
  {
   "cell_type": "markdown",
   "id": "f4178760",
   "metadata": {},
   "source": [
    "# Create salary.csv file which contain sid,sname,salary.\n",
    "# And insert records."
   ]
  },
  {
   "cell_type": "code",
   "execution_count": 3,
   "id": "6450e51f",
   "metadata": {},
   "outputs": [
    {
     "name": "stdout",
     "output_type": "stream",
     "text": [
      "<_io.TextIOWrapper name='c:\\\\sqlite3\\\\salary.csv' mode='w' encoding='cp1252'>\n"
     ]
    }
   ],
   "source": [
    "\n",
    "import csv\n",
    "f=open('c:\\\\sqlite3\\\\salary.csv','w',newline='')\n",
    "print(f)\n",
    "w=csv.writer(f)\n",
    "header=['sid','sname','salary']\n",
    "w.writerow(header)\n",
    "rows=[[1,'ram',2500],[2,'om',4000],[3,'krishna',2900],[4,'radha',4000],[5,'sai',4200]]\n",
    "w.writerows(rows)\n",
    "f.close()\n",
    "\n"
   ]
  },
  {
   "cell_type": "markdown",
   "id": "05983f3b",
   "metadata": {},
   "source": [
    "# Read and Check."
   ]
  },
  {
   "cell_type": "code",
   "execution_count": 4,
   "id": "475c059e",
   "metadata": {},
   "outputs": [
    {
     "name": "stdout",
     "output_type": "stream",
     "text": [
      "sid,sname,salary\n",
      "1,ram,2500\n",
      "2,om,4000\n",
      "3,krishna,2900\n",
      "4,radha,4000\n",
      "5,sai,4200\n",
      "\n"
     ]
    }
   ],
   "source": [
    "with open('c:\\\\sqlite3\\\\salary.csv','r') as f:\n",
    "      ro=f.read()\n",
    "print(ro)"
   ]
  },
  {
   "cell_type": "markdown",
   "id": "02eb63d3",
   "metadata": {},
   "source": [
    "# Display the employee record whose name begins from \"S‟ also show no. of employee with first letter \"S‟ out of total record."
   ]
  },
  {
   "cell_type": "code",
   "execution_count": 5,
   "id": "f7a6571b",
   "metadata": {},
   "outputs": [
    {
     "name": "stdout",
     "output_type": "stream",
     "text": [
      "sid,sname,salary\n",
      "5,sai,4200\n",
      "Number of \"S\" names is 2/6\n"
     ]
    }
   ],
   "source": [
    "with open('c:\\\\sqlite3\\\\salary.csv', mode='r',newline='') as file:\n",
    "    reader = csv.reader(file)\n",
    "    records = list(reader)\n",
    "sname = [record for record in records if record[1].startswith('s') or record[1].startswith('S')]\n",
    "scount = len(sname)\n",
    "re= len(records)\n",
    "for record in sname:\n",
    "    print(','.join(record))\n",
    "print(f'Number of \"S\" names is {scount}/{re}')\n"
   ]
  },
  {
   "cell_type": "code",
   "execution_count": null,
   "id": "25132e79",
   "metadata": {},
   "outputs": [],
   "source": []
  },
  {
   "cell_type": "code",
   "execution_count": null,
   "id": "a33c93a8",
   "metadata": {},
   "outputs": [],
   "source": []
  }
 ],
 "metadata": {
  "kernelspec": {
   "display_name": "Python 3 (ipykernel)",
   "language": "python",
   "name": "python3"
  },
  "language_info": {
   "codemirror_mode": {
    "name": "ipython",
    "version": 3
   },
   "file_extension": ".py",
   "mimetype": "text/x-python",
   "name": "python",
   "nbconvert_exporter": "python",
   "pygments_lexer": "ipython3",
   "version": "3.9.6"
  }
 },
 "nbformat": 4,
 "nbformat_minor": 5
}
